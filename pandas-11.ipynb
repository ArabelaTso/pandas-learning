{
 "cells": [
  {
   "cell_type": "markdown",
   "metadata": {},
   "source": [
    "# How do I use string methods in pandas?"
   ]
  },
  {
   "cell_type": "code",
   "execution_count": 1,
   "metadata": {},
   "outputs": [],
   "source": [
    "import pandas as pd"
   ]
  },
  {
   "cell_type": "code",
   "execution_count": 3,
   "metadata": {},
   "outputs": [],
   "source": [
    "orders = pd.read_table('https://bit.ly/chiporders')"
   ]
  },
  {
   "cell_type": "code",
   "execution_count": 4,
   "metadata": {},
   "outputs": [
    {
     "data": {
      "text/html": [
       "<div>\n",
       "<style>\n",
       "    .dataframe thead tr:only-child th {\n",
       "        text-align: right;\n",
       "    }\n",
       "\n",
       "    .dataframe thead th {\n",
       "        text-align: left;\n",
       "    }\n",
       "\n",
       "    .dataframe tbody tr th {\n",
       "        vertical-align: top;\n",
       "    }\n",
       "</style>\n",
       "<table border=\"1\" class=\"dataframe\">\n",
       "  <thead>\n",
       "    <tr style=\"text-align: right;\">\n",
       "      <th></th>\n",
       "      <th>order_id</th>\n",
       "      <th>quantity</th>\n",
       "      <th>item_name</th>\n",
       "      <th>choice_description</th>\n",
       "      <th>item_price</th>\n",
       "    </tr>\n",
       "  </thead>\n",
       "  <tbody>\n",
       "    <tr>\n",
       "      <th>0</th>\n",
       "      <td>1</td>\n",
       "      <td>1</td>\n",
       "      <td>Chips and Fresh Tomato Salsa</td>\n",
       "      <td>NaN</td>\n",
       "      <td>$2.39</td>\n",
       "    </tr>\n",
       "    <tr>\n",
       "      <th>1</th>\n",
       "      <td>1</td>\n",
       "      <td>1</td>\n",
       "      <td>Izze</td>\n",
       "      <td>[Clementine]</td>\n",
       "      <td>$3.39</td>\n",
       "    </tr>\n",
       "    <tr>\n",
       "      <th>2</th>\n",
       "      <td>1</td>\n",
       "      <td>1</td>\n",
       "      <td>Nantucket Nectar</td>\n",
       "      <td>[Apple]</td>\n",
       "      <td>$3.39</td>\n",
       "    </tr>\n",
       "    <tr>\n",
       "      <th>3</th>\n",
       "      <td>1</td>\n",
       "      <td>1</td>\n",
       "      <td>Chips and Tomatillo-Green Chili Salsa</td>\n",
       "      <td>NaN</td>\n",
       "      <td>$2.39</td>\n",
       "    </tr>\n",
       "    <tr>\n",
       "      <th>4</th>\n",
       "      <td>2</td>\n",
       "      <td>2</td>\n",
       "      <td>Chicken Bowl</td>\n",
       "      <td>[Tomatillo-Red Chili Salsa (Hot), [Black Beans...</td>\n",
       "      <td>$16.98</td>\n",
       "    </tr>\n",
       "  </tbody>\n",
       "</table>\n",
       "</div>"
      ],
      "text/plain": [
       "   order_id  quantity                              item_name  \\\n",
       "0         1         1           Chips and Fresh Tomato Salsa   \n",
       "1         1         1                                   Izze   \n",
       "2         1         1                       Nantucket Nectar   \n",
       "3         1         1  Chips and Tomatillo-Green Chili Salsa   \n",
       "4         2         2                           Chicken Bowl   \n",
       "\n",
       "                                  choice_description item_price  \n",
       "0                                                NaN     $2.39   \n",
       "1                                       [Clementine]     $3.39   \n",
       "2                                            [Apple]     $3.39   \n",
       "3                                                NaN     $2.39   \n",
       "4  [Tomatillo-Red Chili Salsa (Hot), [Black Beans...    $16.98   "
      ]
     },
     "execution_count": 4,
     "metadata": {},
     "output_type": "execute_result"
    }
   ],
   "source": [
    "orders.head()"
   ]
  },
  {
   "cell_type": "code",
   "execution_count": 5,
   "metadata": {},
   "outputs": [
    {
     "data": {
      "text/plain": [
       "0                CHIPS AND FRESH TOMATO SALSA\n",
       "1                                        IZZE\n",
       "2                            NANTUCKET NECTAR\n",
       "3       CHIPS AND TOMATILLO-GREEN CHILI SALSA\n",
       "4                                CHICKEN BOWL\n",
       "5                                CHICKEN BOWL\n",
       "6                               SIDE OF CHIPS\n",
       "7                               STEAK BURRITO\n",
       "8                            STEAK SOFT TACOS\n",
       "9                               STEAK BURRITO\n",
       "10                        CHIPS AND GUACAMOLE\n",
       "11                       CHICKEN CRISPY TACOS\n",
       "12                         CHICKEN SOFT TACOS\n",
       "13                               CHICKEN BOWL\n",
       "14                        CHIPS AND GUACAMOLE\n",
       "15      CHIPS AND TOMATILLO-GREEN CHILI SALSA\n",
       "16                            CHICKEN BURRITO\n",
       "17                            CHICKEN BURRITO\n",
       "18                                CANNED SODA\n",
       "19                               CHICKEN BOWL\n",
       "20                        CHIPS AND GUACAMOLE\n",
       "21                           BARBACOA BURRITO\n",
       "22                           NANTUCKET NECTAR\n",
       "23                            CHICKEN BURRITO\n",
       "24                                       IZZE\n",
       "25               CHIPS AND FRESH TOMATO SALSA\n",
       "26                               CHICKEN BOWL\n",
       "27                           CARNITAS BURRITO\n",
       "28                                CANNED SODA\n",
       "29                            CHICKEN BURRITO\n",
       "                        ...                  \n",
       "4592                         BARBACOA BURRITO\n",
       "4593                            CARNITAS BOWL\n",
       "4594                            BARBACOA BOWL\n",
       "4595                             CHICKEN BOWL\n",
       "4596                      CHIPS AND GUACAMOLE\n",
       "4597                        CANNED SOFT DRINK\n",
       "4598                            BOTTLED WATER\n",
       "4599                             CHICKEN BOWL\n",
       "4600                      CHIPS AND GUACAMOLE\n",
       "4601                        CANNED SOFT DRINK\n",
       "4602                         BARBACOA BURRITO\n",
       "4603                         BARBACOA BURRITO\n",
       "4604                             CHICKEN BOWL\n",
       "4605                      CHIPS AND GUACAMOLE\n",
       "4606                        CANNED SOFT DRINK\n",
       "4607                            STEAK BURRITO\n",
       "4608                           VEGGIE BURRITO\n",
       "4609                        CANNED SOFT DRINK\n",
       "4610                            STEAK BURRITO\n",
       "4611                           VEGGIE BURRITO\n",
       "4612                            CARNITAS BOWL\n",
       "4613                                    CHIPS\n",
       "4614                            BOTTLED WATER\n",
       "4615                       CHICKEN SOFT TACOS\n",
       "4616                      CHIPS AND GUACAMOLE\n",
       "4617                            STEAK BURRITO\n",
       "4618                            STEAK BURRITO\n",
       "4619                       CHICKEN SALAD BOWL\n",
       "4620                       CHICKEN SALAD BOWL\n",
       "4621                       CHICKEN SALAD BOWL\n",
       "Name: item_name, Length: 4622, dtype: object"
      ]
     },
     "execution_count": 5,
     "metadata": {},
     "output_type": "execute_result"
    }
   ],
   "source": [
    "orders.item_name.str.upper()"
   ]
  },
  {
   "cell_type": "markdown",
   "metadata": {},
   "source": [
    "orders.item_name.str.contains('Chicken')"
   ]
  },
  {
   "cell_type": "markdown",
   "metadata": {},
   "source": [
    "See more detailed API in:\n",
    "\n",
    "\n",
    "pandas.pydata.org/pandas-docs/stable/api.html\n",
    "\n",
    "find `string handling`"
   ]
  },
  {
   "cell_type": "markdown",
   "metadata": {},
   "source": [
    "## bonus"
   ]
  },
  {
   "cell_type": "code",
   "execution_count": 7,
   "metadata": {},
   "outputs": [
    {
     "data": {
      "text/plain": [
       "0                                                     NaN\n",
       "1                                              Clementine\n",
       "2                                                   Apple\n",
       "3                                                     NaN\n",
       "4       Tomatillo-Red Chili Salsa (Hot), Black Beans, ...\n",
       "5       Fresh Tomato Salsa (Mild), Rice, Cheese, Sour ...\n",
       "6                                                     NaN\n",
       "7       Tomatillo Red Chili Salsa, Fajita Vegetables, ...\n",
       "8       Tomatillo Green Chili Salsa, Pinto Beans, Chee...\n",
       "9       Fresh Tomato Salsa, Rice, Black Beans, Pinto B...\n",
       "10                                                    NaN\n",
       "11      Roasted Chili Corn Salsa, Fajita Vegetables, R...\n",
       "12      Roasted Chili Corn Salsa, Rice, Black Beans, C...\n",
       "13      Fresh Tomato Salsa, Fajita Vegetables, Rice, C...\n",
       "14                                                    NaN\n",
       "15                                                    NaN\n",
       "16      Tomatillo-Green Chili Salsa (Medium), Pinto Be...\n",
       "17      Fresh Tomato Salsa (Mild), Black Beans, Rice, ...\n",
       "18                                                 Sprite\n",
       "19      Tomatillo Red Chili Salsa, Fajita Vegetables, ...\n",
       "20                                                    NaN\n",
       "21      Fresh Tomato Salsa (Mild), Tomatillo-Green Chi...\n",
       "22                                     Pomegranate Cherry\n",
       "23      Tomatillo-Green Chili Salsa (Medium), Tomatill...\n",
       "24                                             Grapefruit\n",
       "25                                                    NaN\n",
       "26      Roasted Chili Corn Salsa (Medium), Pinto Beans...\n",
       "27      Tomatillo-Green Chili Salsa (Medium), Roasted ...\n",
       "28                                             Dr. Pepper\n",
       "29      Tomatillo-Green Chili Salsa (Medium), Pinto Be...\n",
       "                              ...                        \n",
       "4592    Tomatillo Red Chili Salsa, Rice, Fajita Vegeta...\n",
       "4593    Roasted Chili Corn Salsa, Rice, Sour Cream, Ch...\n",
       "4594    Roasted Chili Corn Salsa, Pinto Beans, Sour Cr...\n",
       "4595       Tomatillo Green Chili Salsa, Rice, Black Beans\n",
       "4596                                                  NaN\n",
       "4597                                               Nestea\n",
       "4598                                                  NaN\n",
       "4599            Roasted Chili Corn Salsa, Cheese, Lettuce\n",
       "4600                                                  NaN\n",
       "4601                                            Diet Coke\n",
       "4602                          Tomatillo Green Chili Salsa\n",
       "4603                          Tomatillo Green Chili Salsa\n",
       "4604    Fresh Tomato Salsa, Rice, Black Beans, Cheese,...\n",
       "4605                                                  NaN\n",
       "4606                                                 Coke\n",
       "4607    Tomatillo Green Chili Salsa, Rice, Cheese, Sou...\n",
       "4608    Tomatillo Red Chili Salsa, Fajita Vegetables, ...\n",
       "4609                                               Sprite\n",
       "4610    Fresh Tomato Salsa, Rice, Sour Cream, Cheese, ...\n",
       "4611    Tomatillo Green Chili Salsa, Rice, Fajita Vege...\n",
       "4612    Fresh Tomato Salsa, Fajita Vegetables, Rice, B...\n",
       "4613                                                  NaN\n",
       "4614                                                  NaN\n",
       "4615         Fresh Tomato Salsa, Rice, Cheese, Sour Cream\n",
       "4616                                                  NaN\n",
       "4617    Fresh Tomato Salsa, Rice, Black Beans, Sour Cr...\n",
       "4618    Fresh Tomato Salsa, Rice, Sour Cream, Cheese, ...\n",
       "4619    Fresh Tomato Salsa, Fajita Vegetables, Pinto B...\n",
       "4620       Fresh Tomato Salsa, Fajita Vegetables, Lettuce\n",
       "4621    Fresh Tomato Salsa, Fajita Vegetables, Pinto B...\n",
       "Name: choice_description, Length: 4622, dtype: object"
      ]
     },
     "execution_count": 7,
     "metadata": {},
     "output_type": "execute_result"
    }
   ],
   "source": [
    "orders.choice_description.str.replace('[','').str.replace(']','')"
   ]
  },
  {
   "cell_type": "code",
   "execution_count": 8,
   "metadata": {},
   "outputs": [
    {
     "data": {
      "text/plain": [
       "0                                                     NaN\n",
       "1                                              Clementine\n",
       "2                                                   Apple\n",
       "3                                                     NaN\n",
       "4       Tomatillo-Red Chili Salsa (Hot), Black Beans, ...\n",
       "5       Fresh Tomato Salsa (Mild), Rice, Cheese, Sour ...\n",
       "6                                                     NaN\n",
       "7       Tomatillo Red Chili Salsa, Fajita Vegetables, ...\n",
       "8       Tomatillo Green Chili Salsa, Pinto Beans, Chee...\n",
       "9       Fresh Tomato Salsa, Rice, Black Beans, Pinto B...\n",
       "10                                                    NaN\n",
       "11      Roasted Chili Corn Salsa, Fajita Vegetables, R...\n",
       "12      Roasted Chili Corn Salsa, Rice, Black Beans, C...\n",
       "13      Fresh Tomato Salsa, Fajita Vegetables, Rice, C...\n",
       "14                                                    NaN\n",
       "15                                                    NaN\n",
       "16      Tomatillo-Green Chili Salsa (Medium), Pinto Be...\n",
       "17      Fresh Tomato Salsa (Mild), Black Beans, Rice, ...\n",
       "18                                                 Sprite\n",
       "19      Tomatillo Red Chili Salsa, Fajita Vegetables, ...\n",
       "20                                                    NaN\n",
       "21      Fresh Tomato Salsa (Mild), Tomatillo-Green Chi...\n",
       "22                                     Pomegranate Cherry\n",
       "23      Tomatillo-Green Chili Salsa (Medium), Tomatill...\n",
       "24                                             Grapefruit\n",
       "25                                                    NaN\n",
       "26      Roasted Chili Corn Salsa (Medium), Pinto Beans...\n",
       "27      Tomatillo-Green Chili Salsa (Medium), Roasted ...\n",
       "28                                             Dr. Pepper\n",
       "29      Tomatillo-Green Chili Salsa (Medium), Pinto Be...\n",
       "                              ...                        \n",
       "4592    Tomatillo Red Chili Salsa, Rice, Fajita Vegeta...\n",
       "4593    Roasted Chili Corn Salsa, Rice, Sour Cream, Ch...\n",
       "4594    Roasted Chili Corn Salsa, Pinto Beans, Sour Cr...\n",
       "4595       Tomatillo Green Chili Salsa, Rice, Black Beans\n",
       "4596                                                  NaN\n",
       "4597                                               Nestea\n",
       "4598                                                  NaN\n",
       "4599            Roasted Chili Corn Salsa, Cheese, Lettuce\n",
       "4600                                                  NaN\n",
       "4601                                            Diet Coke\n",
       "4602                          Tomatillo Green Chili Salsa\n",
       "4603                          Tomatillo Green Chili Salsa\n",
       "4604    Fresh Tomato Salsa, Rice, Black Beans, Cheese,...\n",
       "4605                                                  NaN\n",
       "4606                                                 Coke\n",
       "4607    Tomatillo Green Chili Salsa, Rice, Cheese, Sou...\n",
       "4608    Tomatillo Red Chili Salsa, Fajita Vegetables, ...\n",
       "4609                                               Sprite\n",
       "4610    Fresh Tomato Salsa, Rice, Sour Cream, Cheese, ...\n",
       "4611    Tomatillo Green Chili Salsa, Rice, Fajita Vege...\n",
       "4612    Fresh Tomato Salsa, Fajita Vegetables, Rice, B...\n",
       "4613                                                  NaN\n",
       "4614                                                  NaN\n",
       "4615         Fresh Tomato Salsa, Rice, Cheese, Sour Cream\n",
       "4616                                                  NaN\n",
       "4617    Fresh Tomato Salsa, Rice, Black Beans, Sour Cr...\n",
       "4618    Fresh Tomato Salsa, Rice, Sour Cream, Cheese, ...\n",
       "4619    Fresh Tomato Salsa, Fajita Vegetables, Pinto B...\n",
       "4620       Fresh Tomato Salsa, Fajita Vegetables, Lettuce\n",
       "4621    Fresh Tomato Salsa, Fajita Vegetables, Pinto B...\n",
       "Name: choice_description, Length: 4622, dtype: object"
      ]
     },
     "execution_count": 8,
     "metadata": {},
     "output_type": "execute_result"
    }
   ],
   "source": [
    "orders.choice_description.str.replace('[\\[\\]]','')"
   ]
  },
  {
   "cell_type": "code",
   "execution_count": null,
   "metadata": {},
   "outputs": [],
   "source": []
  }
 ],
 "metadata": {
  "kernelspec": {
   "display_name": "Python 3",
   "language": "python",
   "name": "python3"
  },
  "language_info": {
   "codemirror_mode": {
    "name": "ipython",
    "version": 3
   },
   "file_extension": ".py",
   "mimetype": "text/x-python",
   "name": "python",
   "nbconvert_exporter": "python",
   "pygments_lexer": "ipython3",
   "version": "3.6.1"
  }
 },
 "nbformat": 4,
 "nbformat_minor": 2
}
